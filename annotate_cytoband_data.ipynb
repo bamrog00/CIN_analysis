{
 "cells": [
  {
   "cell_type": "code",
   "execution_count": 1,
   "id": "14b11a09",
   "metadata": {},
   "outputs": [],
   "source": [
    "import pandas as pd\n",
    "import numpy as np"
   ]
  },
  {
   "cell_type": "code",
   "execution_count": 2,
   "id": "0850fa01",
   "metadata": {},
   "outputs": [],
   "source": [
    "## Load data and set column names\n",
    "cytobands = pd.read_csv('../data/cytoBand_UCSC.txt', sep = '\\t', header = None)\n",
    "cytobands.columns = ['chromosome', 'start', 'end', 'cytoband', 'staining']\n",
    "cytobands_filtered = cytobands[cytobands['chromosome'].str.match(r'^chr[\\dXY]+$')]"
   ]
  },
  {
   "cell_type": "code",
   "execution_count": 3,
   "id": "fd4d985f",
   "metadata": {},
   "outputs": [
    {
     "name": "stderr",
     "output_type": "stream",
     "text": [
      "/tmp/ipykernel_89495/4131694385.py:1: SettingWithCopyWarning: \n",
      "A value is trying to be set on a copy of a slice from a DataFrame.\n",
      "Try using .loc[row_indexer,col_indexer] = value instead\n",
      "\n",
      "See the caveats in the documentation: https://pandas.pydata.org/pandas-docs/stable/user_guide/indexing.html#returning-a-view-versus-a-copy\n",
      "  cytobands_filtered.loc[:, 'length'] = cytobands_filtered['end'] - cytobands_filtered['start'] + 1\n"
     ]
    }
   ],
   "source": [
    "cytobands_filtered.loc[:, 'length'] = cytobands_filtered['end'] - cytobands_filtered['start'] + 1"
   ]
  },
  {
   "cell_type": "code",
   "execution_count": 5,
   "id": "fdb1e2e8",
   "metadata": {},
   "outputs": [],
   "source": [
    "cytobands_filtered.to_csv('../data/cytoband_UCSC_annotated.csv', sep=',', header = True)"
   ]
  }
 ],
 "metadata": {
  "kernelspec": {
   "display_name": "Python 3 (ipykernel)",
   "language": "python",
   "name": "python3"
  },
  "language_info": {
   "codemirror_mode": {
    "name": "ipython",
    "version": 3
   },
   "file_extension": ".py",
   "mimetype": "text/x-python",
   "name": "python",
   "nbconvert_exporter": "python",
   "pygments_lexer": "ipython3",
   "version": "3.9.12"
  }
 },
 "nbformat": 4,
 "nbformat_minor": 5
}
