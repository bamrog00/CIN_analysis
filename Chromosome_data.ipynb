{
 "cells": [
  {
   "cell_type": "code",
   "execution_count": 5,
   "id": "5d94acbb",
   "metadata": {},
   "outputs": [],
   "source": [
    "import pandas as pd\n",
    "import numpy as np"
   ]
  },
  {
   "cell_type": "code",
   "execution_count": 6,
   "id": "b2f780fb",
   "metadata": {},
   "outputs": [],
   "source": [
    "chr_df = pd.DataFrame(columns=['Chromosome', \n",
    "                               'length',\n",
    "                               'start_Sarm_p',\n",
    "                               'end_Sarm_p',\n",
    "                               'length_Sarm_p',\n",
    "                               'start_Larm_q',\n",
    "                               'end_Larm_q',\n",
    "                              'length_Larm_q'])"
   ]
  },
  {
   "cell_type": "code",
   "execution_count": 7,
   "id": "53fb28cd",
   "metadata": {},
   "outputs": [],
   "source": [
    "## Load data\n",
    "cytobands = pd.read_csv('../data/cytoband_UCSC_annotated.csv', sep=',', header = 0, index_col = 0)"
   ]
  },
  {
   "cell_type": "code",
   "execution_count": 8,
   "id": "3c252d2b",
   "metadata": {},
   "outputs": [],
   "source": [
    "## Get the chromosome names\n",
    "chromosome_list = np.unique(cytobands['chromosome'])"
   ]
  },
  {
   "cell_type": "code",
   "execution_count": 9,
   "id": "3676e785",
   "metadata": {},
   "outputs": [],
   "source": [
    "## Go through each chromosome and add the information to the dataframe\n",
    "for chromosome in chromosome_list:\n",
    "    cyto_chr = cytobands[cytobands['chromosome'] == chromosome]\n",
    "    \n",
    "    small_arm = cyto_chr[cyto_chr['cytoband'].str.contains('p')]\n",
    "    start_p = min(small_arm['start'])\n",
    "    end_p = max(small_arm['end'])\n",
    "    ## Added 1 because the start is at 0\n",
    "    length_p = 1+end_p\n",
    "    \n",
    "    long_arm = cyto_chr[cyto_chr['cytoband'].str.contains('q')]\n",
    "    ## Added 1 because end_p == start_q in the file but from ENSEMBLE and UCSC it says it starts at end_p+1\n",
    "    start_q = min(long_arm['start']) + 1\n",
    "    end_q = max(long_arm['end'])\n",
    "    length_q = end_q - start_q\n",
    "    \n",
    "    ## Added 1 because the first base is at 0\n",
    "    length_chr = 1 + end_q\n",
    "    \n",
    "    \n",
    "    chr_df.loc[len(chr_df)] = [chromosome,\n",
    "                      length_chr,\n",
    "                      start_p,\n",
    "                      end_p,\n",
    "                      length_p,\n",
    "                      start_q,\n",
    "                      end_q,\n",
    "                      length_q]"
   ]
  },
  {
   "cell_type": "code",
   "execution_count": 10,
   "id": "d3197c21",
   "metadata": {},
   "outputs": [],
   "source": [
    "chr_df.to_csv('../data/chromosome_data.csv', sep=',', header = True)"
   ]
  }
 ],
 "metadata": {
  "kernelspec": {
   "display_name": "Python 3 (ipykernel)",
   "language": "python",
   "name": "python3"
  },
  "language_info": {
   "codemirror_mode": {
    "name": "ipython",
    "version": 3
   },
   "file_extension": ".py",
   "mimetype": "text/x-python",
   "name": "python",
   "nbconvert_exporter": "python",
   "pygments_lexer": "ipython3",
   "version": "3.9.12"
  }
 },
 "nbformat": 4,
 "nbformat_minor": 5
}
